{
 "cells": [
  {
   "cell_type": "code",
   "execution_count": 5,
   "id": "d699b9c3",
   "metadata": {},
   "outputs": [
    {
     "data": {
      "text/plain": [
       "{'label_1': 0.9999899864196777,\n",
       " 'label_2': 0.000602028681896627,\n",
       " 'label_3': 1.7176245137306978e-06,\n",
       " 'label_4': 0.0004501139046624303,\n",
       " 'label_5': 1.272997565138212e-06,\n",
       " 'label_6': 5.35731885520363e-07,\n",
       " 'label_7': 1.8208821117582374e-08}"
      ]
     },
     "execution_count": 5,
     "metadata": {},
     "output_type": "execute_result"
    }
   ],
   "source": [
    "import pickle\n",
    "with open(r\"nlp.pkl\", \"rb\") as input_file:\n",
    "    model = pickle.load(input_file)\n",
    "    \n",
    "texts = \"123-23-2334\"\n",
    "doc = model(texts)\n",
    "doc.cats"
   ]
  },
  {
   "cell_type": "code",
   "execution_count": null,
   "id": "e14c5131",
   "metadata": {},
   "outputs": [],
   "source": []
  }
 ],
 "metadata": {
  "kernelspec": {
   "display_name": "intone",
   "language": "python",
   "name": "intone"
  },
  "language_info": {
   "codemirror_mode": {
    "name": "ipython",
    "version": 3
   },
   "file_extension": ".py",
   "mimetype": "text/x-python",
   "name": "python",
   "nbconvert_exporter": "python",
   "pygments_lexer": "ipython3",
   "version": "3.10.9"
  }
 },
 "nbformat": 4,
 "nbformat_minor": 5
}
